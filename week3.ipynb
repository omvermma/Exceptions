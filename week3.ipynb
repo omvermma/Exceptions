{
 "cells": [
  {
   "cell_type": "code",
   "execution_count": 38,
   "metadata": {},
   "outputs": [
    {
     "name": "stdout",
     "output_type": "stream",
     "text": [
      "meow\n",
      "meow\n",
      "meow\n"
     ]
    }
   ],
   "source": [
    "# loops \n",
    "\n",
    "print(\"meow\")\n",
    "print(\"meow\")\n",
    "print(\"meow\")\n",
    "\n"
   ]
  },
  {
   "cell_type": "code",
   "execution_count": 39,
   "metadata": {},
   "outputs": [
    {
     "name": "stdout",
     "output_type": "stream",
     "text": [
      "meow\n",
      "meow\n",
      "meow\n"
     ]
    }
   ],
   "source": [
    "# use while to upgrade this code\n",
    "\n",
    "i = 3\n",
    "while i != 0:\n",
    "    print(\"meow\")\n",
    "    i = i - 1"
   ]
  },
  {
   "cell_type": "code",
   "execution_count": 2,
   "metadata": {},
   "outputs": [
    {
     "name": "stdout",
     "output_type": "stream",
     "text": [
      "meow\n",
      "meow\n",
      "meow\n"
     ]
    }
   ],
   "source": [
    "# upgrade the previous code\n",
    "i = 1\n",
    "while i <= 3:\n",
    "    print(\"meow\")\n",
    "    i = i + 1\n"
   ]
  },
  {
   "cell_type": "code",
   "execution_count": 41,
   "metadata": {},
   "outputs": [
    {
     "name": "stdout",
     "output_type": "stream",
     "text": [
      "meow\n",
      "meow\n",
      "meow\n"
     ]
    }
   ],
   "source": [
    "i = 1\n",
    "while i < 4:\n",
    "    print(\"meow\")\n",
    "    i += 1\n",
    "# += mean i = i + 1"
   ]
  },
  {
   "cell_type": "code",
   "execution_count": 4,
   "metadata": {},
   "outputs": [
    {
     "name": "stdout",
     "output_type": "stream",
     "text": [
      "meow\n",
      "meow\n",
      "meow\n"
     ]
    }
   ],
   "source": [
    "# 'for', loop list[]\n",
    "for i in [0, 1, 2]:\n",
    "    print(\"meow\")\n"
   ]
  },
  {
   "cell_type": "code",
   "execution_count": 5,
   "metadata": {},
   "outputs": [
    {
     "name": "stdout",
     "output_type": "stream",
     "text": [
      "meow\n",
      "meow\n",
      "meow\n"
     ]
    }
   ],
   "source": [
    "#upgrade\n",
    "for i in range(3):\n",
    "    print(\"meow\")"
   ]
  },
  {
   "cell_type": "code",
   "execution_count": 6,
   "metadata": {},
   "outputs": [
    {
     "name": "stdout",
     "output_type": "stream",
     "text": [
      "meow\n",
      "meow\n",
      "meow\n"
     ]
    }
   ],
   "source": [
    "# one line code\n",
    "print(\"meow\\n\" * 3 , end=\"\")"
   ]
  },
  {
   "cell_type": "code",
   "execution_count": 7,
   "metadata": {},
   "outputs": [
    {
     "name": "stdout",
     "output_type": "stream",
     "text": [
      "meow\n",
      "meow\n",
      "meow\n",
      "meow\n",
      "meow\n",
      "meow\n",
      "meow\n",
      "meow\n",
      "meow\n",
      "meow\n",
      "meow\n",
      "meow\n",
      "meow\n",
      "meow\n",
      "meow\n",
      "meow\n",
      "meow\n",
      "meow\n",
      "meow\n",
      "meow\n",
      "meow\n",
      "meow\n",
      "meow\n",
      "meow\n",
      "meow\n",
      "meow\n",
      "meow\n",
      "meow\n",
      "meow\n",
      "meow\n",
      "meow\n",
      "meow\n",
      "meow\n",
      "meow\n",
      "meow\n",
      "meow\n",
      "meow\n",
      "meow\n",
      "meow\n",
      "meow\n",
      "meow\n",
      "meow\n",
      "meow\n",
      "meow\n",
      "meow\n",
      "meow\n",
      "meow\n",
      "meow\n",
      "meow\n",
      "meow\n",
      "meow\n",
      "meow\n",
      "meow\n",
      "meow\n",
      "meow\n",
      "meow\n",
      "meow\n",
      "meow\n",
      "meow\n",
      "meow\n",
      "meow\n",
      "meow\n",
      "meow\n",
      "meow\n",
      "meow\n",
      "meow\n"
     ]
    }
   ],
   "source": [
    "# break the loop, when we apply 'break'\n",
    "while True:\n",
    "    n = int(input(\"what's n? \"))\n",
    "    if n > 0:\n",
    "        break\n",
    "\n",
    "for _ in range(n):\n",
    "    print(\"meow\")\n"
   ]
  },
  {
   "cell_type": "code",
   "execution_count": 8,
   "metadata": {},
   "outputs": [
    {
     "name": "stdout",
     "output_type": "stream",
     "text": [
      "meow\n",
      "meow\n",
      "meow\n",
      "meow\n",
      "meow\n",
      "meow\n"
     ]
    }
   ],
   "source": [
    "\n",
    "def main():\n",
    "    number = get_number()\n",
    "    meow(number)\n",
    "\n",
    "def get_number():\n",
    "    while True:\n",
    "        n = int(input(\"what's n? \"))\n",
    "        if n > 0:\n",
    "            return n\n",
    "\n",
    "def meow(n):\n",
    "    for _ in range(n):\n",
    "        print(\"meow\")\n",
    "\n",
    "main()"
   ]
  },
  {
   "cell_type": "code",
   "execution_count": 9,
   "metadata": {},
   "outputs": [
    {
     "name": "stdout",
     "output_type": "stream",
     "text": [
      "Hermione\n",
      "Harry\n",
      "Ron\n"
     ]
    }
   ],
   "source": [
    "# list \n",
    "# hogwards.py\n",
    "\n",
    "students = [\"Hermione\", \"Harry\", \"Ron\"]\n",
    "print(students[0])\n",
    "print(students[1])\n",
    "print(students[2])\n"
   ]
  },
  {
   "cell_type": "code",
   "execution_count": 10,
   "metadata": {},
   "outputs": [
    {
     "name": "stdout",
     "output_type": "stream",
     "text": [
      "Hermione\n",
      "Harry\n",
      "Ron\n"
     ]
    }
   ],
   "source": [
    "# upgrade\n",
    "\n",
    "students = [\"Hermione\", \"Harry\", \"Ron\"]\n",
    "\n",
    "for student in students:\n",
    "    print(student)"
   ]
  },
  {
   "cell_type": "code",
   "execution_count": 11,
   "metadata": {},
   "outputs": [
    {
     "name": "stdout",
     "output_type": "stream",
     "text": [
      "1 Hermione\n",
      "2 Harry\n",
      "3 Ron\n"
     ]
    }
   ],
   "source": [
    "# upgrade len = length\n",
    "\n",
    "students = [\"Hermione\", \"Harry\", \"Ron\"]\n",
    "\n",
    "for i in range(len(students)):\n",
    "    print(i + 1, students[i])"
   ]
  },
  {
   "cell_type": "code",
   "execution_count": 12,
   "metadata": {},
   "outputs": [
    {
     "name": "stdout",
     "output_type": "stream",
     "text": [
      "gryffindor\n",
      "gryffindor\n",
      "gryffindor\n",
      "Hermione\n",
      "Harry\n",
      "Ron\n",
      "Draco\n",
      "Hermione, gryffindor\n",
      "Harry, gryffindor\n",
      "Ron, gryffindor\n",
      "Draco, slytherin\n"
     ]
    }
   ],
   "source": [
    "# dict = dictonary by  upgrade \n",
    "# refer by {}\n",
    "\n",
    "students = {\n",
    "    \"Hermione\": \"gryffindor\",\n",
    "    \"Harry\": \"gryffindor\",\n",
    "    \"Ron\": \"gryffindor\",\n",
    "    \"Draco\": \"slytherin\"\n",
    "}\n",
    "\n",
    "print(students[\"Harry\"])\n",
    "print(students[\"Hermione\"])\n",
    "print(students[\"Ron\"])\n",
    "\n",
    "#upgrade \n",
    "for student in students:\n",
    "    print(student)\n",
    "\n",
    "# upgrade print\n",
    "for student in students:\n",
    "    print(student, students[student], sep=\", \")\n"
   ]
  },
  {
   "cell_type": "code",
   "execution_count": 13,
   "metadata": {},
   "outputs": [
    {
     "name": "stdout",
     "output_type": "stream",
     "text": [
      "Hermione, Gryffindor, Otter\n",
      "Harry, Gryffindor, Stag\n",
      "Ron, Gryffindor, Jack Russell terrier\n",
      "Draco, Slytherin, None\n"
     ]
    }
   ],
   "source": [
    "# dict, and lists\n",
    "\n",
    "students =[\n",
    "    {\"name\": \"Hermione\", \"house\": \"Gryffindor\", \"patronus\": \"Otter\"},\n",
    "    {\"name\": \"Harry\", \"house\": \"Gryffindor\", \"patronus\": \"Stag\"},\n",
    "    {\"name\": \"Ron\", \"house\": \"Gryffindor\", \"patronus\": \"Jack Russell terrier\"},\n",
    "    {\"name\": \"Draco\", \"house\": \"Slytherin\", \"patronus\": None}\n",
    "]\n",
    "\n",
    "for student in students:\n",
    "    print(student[\"name\"], student[\"house\"], student[\"patronus\"], sep = \", \")"
   ]
  },
  {
   "cell_type": "code",
   "execution_count": 14,
   "metadata": {},
   "outputs": [
    {
     "name": "stdout",
     "output_type": "stream",
     "text": [
      "#\n",
      "#\n",
      "#\n",
      "#\n",
      "#\n",
      "#\n"
     ]
    }
   ],
   "source": [
    "# mario.py game\n",
    "print(\"#\")\n",
    "print(\"#\")\n",
    "print(\"#\")\n",
    "\n",
    "#upgrade\n",
    "for _ in range(3):\n",
    "    print(\"#\")"
   ]
  },
  {
   "cell_type": "code",
   "execution_count": 15,
   "metadata": {},
   "outputs": [
    {
     "name": "stdout",
     "output_type": "stream",
     "text": [
      "#\n",
      "#\n",
      "#\n"
     ]
    }
   ],
   "source": [
    "def main():\n",
    "    print_column(3)\n",
    "\n",
    "def print_column(hight):\n",
    "    for _ in range(3):\n",
    "       print(\"#\")\n",
    " # another method print(\"#\\n\" * hight, end=\"\")\n",
    "main()\n"
   ]
  },
  {
   "cell_type": "code",
   "execution_count": 16,
   "metadata": {},
   "outputs": [
    {
     "name": "stdout",
     "output_type": "stream",
     "text": [
      "????\n"
     ]
    }
   ],
   "source": [
    "def main():\n",
    "    print_row(4)\n",
    "\n",
    "def print_row(width):\n",
    "    print(\"?\" * width)\n",
    "\n",
    "main()"
   ]
  },
  {
   "cell_type": "code",
   "execution_count": 17,
   "metadata": {},
   "outputs": [
    {
     "name": "stdout",
     "output_type": "stream",
     "text": [
      "###\n",
      "###\n",
      "###\n"
     ]
    }
   ],
   "source": [
    "def main():\n",
    "    print_square(3)\n",
    "\n",
    "\n",
    "def print_square(size):\n",
    "\n",
    "    # for each row in square\n",
    "    for i in range(size):\n",
    "\n",
    "        # for each brick in row\n",
    "        for j in range(size):\n",
    "\n",
    "            # print brick\n",
    "            print(\"#\", end= \"\")\n",
    "            \n",
    "        print()\n",
    "\n",
    "main()"
   ]
  },
  {
   "cell_type": "code",
   "execution_count": 18,
   "metadata": {},
   "outputs": [
    {
     "name": "stdout",
     "output_type": "stream",
     "text": [
      "###\n",
      "###\n",
      "###\n"
     ]
    }
   ],
   "source": [
    "# upgrade inner code\n",
    "\n",
    "def main():\n",
    "    print_square(3)\n",
    "\n",
    "def print_square(size):\n",
    "    for i in range(size):\n",
    "       print(\"#\" * size)\n",
    "       \n",
    "\n",
    "main()"
   ]
  },
  {
   "cell_type": "code",
   "execution_count": 19,
   "metadata": {},
   "outputs": [],
   "source": [
    "# loops shorts \n",
    "\n"
   ]
  },
  {
   "cell_type": "code",
   "execution_count": 20,
   "metadata": {},
   "outputs": [
    {
     "name": "stdout",
     "output_type": "stream",
     "text": [
      "Day 1: Moisture is 53.8%\n",
      "Day 2: moisture is 51.0%\n",
      "Day 3: moisture is 53.6%\n",
      "Day 4: moisture is 55.1%\n",
      "Day 5: moisture is 91.3%\n",
      "Day 6: moisture is 77.2%\n",
      "Day 7: moisture is 91.3%\n",
      "Day 8: moisture is 27.1%\n",
      "Day 9: moisture is 90.6%\n",
      "Day 10: moisture is 64.7%\n",
      "Day 11: moisture is 44.9%\n",
      "Day 12: moisture is 80.4%\n",
      "Day 13: moisture is 21.8%\n",
      "time to water!\n"
     ]
    }
   ],
   "source": [
    "#while loops shorts\n",
    "import random\n",
    "\n",
    "def sample():\n",
    "    # Simulate getting a soil moisture value between 0 and 100%\n",
    "    return round(random.uniform(0, 100), 1)\n",
    "\n",
    "def main():\n",
    "    moisture = sample()\n",
    "    days = 1\n",
    "    print(f\"Day {days}: Moisture is {moisture}%\")\n",
    "\n",
    "    while moisture > 25:\n",
    "        moisture = sample()\n",
    "        days += 1\n",
    "        print(f\"Day {days}: moisture is {moisture}%\")\n",
    "\n",
    "    print(\"time to water!\")\n",
    "main()"
   ]
  },
  {
   "cell_type": "code",
   "execution_count": 21,
   "metadata": {},
   "outputs": [
    {
     "name": "stdout",
     "output_type": "stream",
     "text": [
      "Day 1: Moisture is 9.6%\n",
      "Time to water!\n",
      "\n",
      "Final Moisture Readings in Decreasing Order:\n",
      "Day 1: 9.6%\n"
     ]
    }
   ],
   "source": [
    "import random\n",
    "\n",
    "def sample():\n",
    "    # Simulate getting a soil moisture value between 0 and 100%\n",
    "    return round(random.uniform(0, 100), 1)\n",
    "\n",
    "def main():\n",
    "    moisture = sample()  # Get the initial moisture reading\n",
    "    days = 1\n",
    "    moisture_readings = [moisture]  # Store all moisture readings in a list\n",
    "\n",
    "    print(f\"Day {days}: Moisture is {moisture}%\")\n",
    "\n",
    "    # Continue to collect readings until moisture <= 25%\n",
    "    while moisture > 25:\n",
    "        moisture = sample()\n",
    "        if moisture < moisture_readings[-1]:  # Ensure decreasing order\n",
    "            days += 1\n",
    "            moisture_readings.append(moisture)\n",
    "            print(f\"Day {days}: Moisture is {moisture}%\")\n",
    "\n",
    "    print(\"Time to water!\")\n",
    "    print(\"\\nFinal Moisture Readings in Decreasing Order:\")\n",
    "    for i, m in enumerate(moisture_readings, start=1):\n",
    "        print(f\"Day {i}: {m}%\")\n",
    "\n",
    "main()\n"
   ]
  },
  {
   "cell_type": "code",
   "execution_count": 6,
   "metadata": {},
   "outputs": [
    {
     "name": "stdout",
     "output_type": "stream",
     "text": [
      "['bowser', 'Mario', 'Luigi', 'Princess', 'Yoshi', 'Koppa Troopa', 'Toad']\n"
     ]
    }
   ],
   "source": [
    "#lists shorts. week3\n",
    "#results.py\n",
    "\n",
    "results = [\"Mario\", \"Luigi\", \"Princess\", \"Yoshi\", \"Koppa Troopa\", \"Toad\"]\n",
    "\n",
    "results.append(\"Bowser\")\n",
    "results.remove(\"Bowser\") #remove for remove the name in the results\n",
    "results.insert(0, \"bowser\") # 0 is the first place to place the name \"bowser\"\n",
    "results.reverse() # reverse for the reverse the output\n",
    "\n",
    "\n",
    "print(results)"
   ]
  },
  {
   "cell_type": "code",
   "execution_count": null,
   "metadata": {},
   "outputs": [],
   "source": [
    "#For loops w3\n",
    "\n",
    "def main():\n",
    "    print(write_letter(\"Mario\", \"Princess peach\"))\n",
    "    print(write_letter(\"Lungi\", \"Princess peach\"))\n",
    "    print(write_letter(\"Daisy\", \"Princess peach\"))\n",
    "    print(write_letter(\"Yoshi\", \"Princess peach\"))\n",
    "\n",
    "def write_letter(receiver, sender):\n",
    "    return f\"\"\"\n",
    "    ~~~~~~~~~~~~~~~~~~~~~~~~~~~~~~~~~~~~~~~~\n",
    "        Dear {receiver},\n",
    "\n",
    "        you are codially invited to a ball at\n",
    "        Peach's castle this evening, 7:00 PM.\n",
    "\n",
    "        Sincerely,\n",
    "        {sender}\n",
    "    ~~~~~~~~~~~~~~~~~~~~~~~~~~~~~~~~~~~~~~~~\n",
    "    \"\"\"\n",
    "\n",
    "main()"
   ]
  },
  {
   "cell_type": "code",
   "execution_count": 43,
   "metadata": {},
   "outputs": [],
   "source": [
    "#upgrade upper code \n",
    "\n",
    "def main():\n",
    "    names = [\"Mario\", \"Lungi\", \"Daisy\", \"Yoshi\", \"Bowser\"]\n",
    "    for i in names:\n",
    "        print(write_letter(names, \"Princess peach\"))"
   ]
  },
  {
   "cell_type": "code",
   "execution_count": null,
   "metadata": {},
   "outputs": [],
   "source": [
    "#more good readable code\n",
    "\n",
    "def main():\n",
    "    names = [\"Mario\", \"Lungi\", \"Daisy\", \"Yoshi\", \"Bowser\"]\n",
    "    for name in names:\n",
    "        print(write_letter(name, \"Princess peach\"))\n",
    "        #if we use name to names then it will combined invitation\n",
    "\n",
    "\n",
    "def write_letter(receiver, sender):\n",
    "    return f\"\"\"\n",
    "    ~~~~~~~~~~~~~~~~~~~~~~~~~~~~~~~~~~~~~~~~\n",
    "        Dear {receiver},\n",
    "\n",
    "        you are codially invited to a ball at\n",
    "        Peach's castle this evening, 7:00 PM.\n",
    "\n",
    "        Sincerely,\n",
    "        {sender}\n",
    "    ~~~~~~~~~~~~~~~~~~~~~~~~~~~~~~~~~~~~~~~~\n",
    "    \"\"\"\n",
    "\n",
    "main()"
   ]
  },
  {
   "cell_type": "code",
   "execution_count": null,
   "metadata": {},
   "outputs": [],
   "source": [
    "#shorts on Dictionaries\n",
    "\n",
    "def main():\n",
    "    spacecraft = {\"name\": \"James webb space telescope\"} # spacecraft = {\"name\": \"Voyager 1\", \"distance\": 163}\n",
    "    spacecraft.update({\"distance\": 0.01, \"orbit\": \"Sun\"})\n",
    "    print(create_report(spacecraft))\n",
    "\n",
    "def create_report(spacecraft):\n",
    "    return f\"\"\"\n",
    "    ========== REPORT ========\n",
    "    \n",
    "    Nmae: {spacecraft.get(\"name\", \"unknown\")}\n",
    "    Distance: {spacecraft.get(\"distance\", \"Unknown\")} AU\n",
    "    Orbit: {spacecraft.get(\"orbit\", \"Unknown\")}\n",
    "    ==========================\n",
    "    \"\"\"\n",
    "\n",
    "\n",
    "\n",
    "main()"
   ]
  },
  {
   "cell_type": "code",
   "execution_count": 22,
   "metadata": {},
   "outputs": [
    {
     "name": "stdout",
     "output_type": "stream",
     "text": [
      "163 AU is 24384452924100 m\n",
      "136 AU is 20345310415200 m\n",
      "80 AU is 11967829656000 m\n",
      "58 AU is 8676676500600 m\n",
      "44 AU is 6582306310800 m\n"
     ]
    }
   ],
   "source": [
    "#distance.py\n",
    "distances ={\n",
    "    \"Voyager 1\": 163,\n",
    "    \"voyager 2\": 136,\n",
    "    \"Pioneer 10\": 80,\n",
    "    \"New Horizons\": 58,\n",
    "    \"Pioneer 11\": 44\n",
    "}\n",
    "\n",
    "\n",
    "def main():\n",
    "       for distance in distances.values():\n",
    "             print(F\"{distance} AU is {convert(distance)} m\")\n",
    "\n",
    "def convert(au):\n",
    "    return au * 149597870700\n",
    "\n",
    "\n",
    "\n",
    "main()"
   ]
  }
 ],
 "metadata": {
  "kernelspec": {
   "display_name": "Python 3",
   "language": "python",
   "name": "python3"
  },
  "language_info": {
   "codemirror_mode": {
    "name": "ipython",
    "version": 3
   },
   "file_extension": ".py",
   "mimetype": "text/x-python",
   "name": "python",
   "nbconvert_exporter": "python",
   "pygments_lexer": "ipython3",
   "version": "3.13.1"
  }
 },
 "nbformat": 4,
 "nbformat_minor": 2
}
