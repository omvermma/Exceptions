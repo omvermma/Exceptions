{
 "cells": [
  {
   "cell_type": "code",
   "execution_count": 2,
   "metadata": {},
   "outputs": [
    {
     "name": "stdout",
     "output_type": "stream",
     "text": [
      "meow\n",
      "meow\n",
      "meow\n",
      "meow\n",
      "meow\n",
      "meow\n"
     ]
    }
   ],
   "source": [
    "# loops \n",
    "\n",
    "print(\"meow\")\n",
    "print(\"meow\")\n",
    "print(\"meow\")\n",
    "\n",
    "# use while to upgrade this code\n",
    "\n",
    "i = 3\n",
    "while i != 0:\n",
    "    print(\"meow\")\n",
    "    i = i - 1"
   ]
  },
  {
   "cell_type": "code",
   "execution_count": null,
   "metadata": {},
   "outputs": [
    {
     "name": "stdout",
     "output_type": "stream",
     "text": [
      "meow\n"
     ]
    }
   ],
   "source": [
    "# upgrade the previous code\n",
    "i = 1\n",
    "while i <= 3:\n",
    "    print(\"meow\")\n",
    "    i = i + 1\n",
    "    \n"
   ]
  },
  {
   "cell_type": "code",
   "execution_count": 9,
   "metadata": {},
   "outputs": [
    {
     "name": "stdout",
     "output_type": "stream",
     "text": [
      "meow\n",
      "meow\n"
     ]
    }
   ],
   "source": [
    "i = 1\n",
    "while i < 3:\n",
    "    print(\"meow\")\n",
    "    i += 1 # += mean i = i + 1"
   ]
  },
  {
   "cell_type": "code",
   "execution_count": 10,
   "metadata": {},
   "outputs": [
    {
     "name": "stdout",
     "output_type": "stream",
     "text": [
      "meow\n",
      "meow\n",
      "meow\n"
     ]
    }
   ],
   "source": [
    "# 'for', loop list[]\n",
    "for i in [0, 1, 2]:\n",
    "    print(\"meow\")\n"
   ]
  },
  {
   "cell_type": "code",
   "execution_count": 11,
   "metadata": {},
   "outputs": [
    {
     "name": "stdout",
     "output_type": "stream",
     "text": [
      "meow\n",
      "meow\n",
      "meow\n"
     ]
    }
   ],
   "source": [
    "#upgrade\n",
    "for i in range(3):\n",
    "    print(\"meow\")"
   ]
  },
  {
   "cell_type": "code",
   "execution_count": 12,
   "metadata": {},
   "outputs": [
    {
     "name": "stdout",
     "output_type": "stream",
     "text": [
      "meow\n",
      "meow\n",
      "meow\n"
     ]
    }
   ],
   "source": [
    "# one line code\n",
    "print(\"meow\\n\" * 3 , end=\"\")"
   ]
  },
  {
   "cell_type": "code",
   "execution_count": 25,
   "metadata": {},
   "outputs": [
    {
     "name": "stdout",
     "output_type": "stream",
     "text": [
      "meow\n"
     ]
    }
   ],
   "source": [
    "# break the loop, when we apply 'break'\n",
    "while True:\n",
    "    n = int(input(\"what's n? \"))\n",
    "    if n > 0:\n",
    "        break\n",
    "\n",
    "for _ in range(n):\n",
    "    print(\"meow\")\n"
   ]
  },
  {
   "cell_type": "code",
   "execution_count": 14,
   "metadata": {},
   "outputs": [
    {
     "name": "stdout",
     "output_type": "stream",
     "text": [
      "meow\n",
      "meow\n",
      "meow\n",
      "meow\n",
      "meow\n"
     ]
    }
   ],
   "source": [
    "\n",
    "def main():\n",
    "    number = get_number()\n",
    "    meow(number)\n",
    "\n",
    "def get_number():\n",
    "    while True:\n",
    "        n = int(input(\"what's n? \"))\n",
    "        if n > 0:\n",
    "            return n\n",
    "\n",
    "def meow(n):\n",
    "    for _ in range(n):\n",
    "        print(\"meow\")\n",
    "\n",
    "main()"
   ]
  },
  {
   "cell_type": "code",
   "execution_count": 15,
   "metadata": {},
   "outputs": [
    {
     "name": "stdout",
     "output_type": "stream",
     "text": [
      "Hermione\n",
      "Harry\n",
      "Ron\n"
     ]
    }
   ],
   "source": [
    "# list \n",
    "# hogwards.py\n",
    "\n",
    "students = [\"Hermione\", \"Harry\", \"Ron\"]\n",
    "print(students[0])\n",
    "print(students[1])\n",
    "print(students[2])\n"
   ]
  },
  {
   "cell_type": "code",
   "execution_count": 16,
   "metadata": {},
   "outputs": [
    {
     "name": "stdout",
     "output_type": "stream",
     "text": [
      "Hermione\n",
      "Harry\n",
      "Ron\n"
     ]
    }
   ],
   "source": [
    "# upgrade\n",
    "\n",
    "students = [\"Hermione\", \"Harry\", \"Ron\"]\n",
    "\n",
    "for student in students:\n",
    "    print(student)"
   ]
  },
  {
   "cell_type": "code",
   "execution_count": 17,
   "metadata": {},
   "outputs": [
    {
     "name": "stdout",
     "output_type": "stream",
     "text": [
      "1 Hermione\n",
      "2 Harry\n",
      "3 Ron\n"
     ]
    }
   ],
   "source": [
    "# upgrade len = length\n",
    "\n",
    "students = [\"Hermione\", \"Harry\", \"Ron\"]\n",
    "\n",
    "for i in range(len(students)):\n",
    "    print(i + 1, students[i])"
   ]
  },
  {
   "cell_type": "code",
   "execution_count": 18,
   "metadata": {},
   "outputs": [
    {
     "name": "stdout",
     "output_type": "stream",
     "text": [
      "gryffindor\n",
      "gryffindor\n",
      "gryffindor\n",
      "Hermione\n",
      "Harry\n",
      "Ron\n",
      "Draco\n",
      "Hermione, gryffindor\n",
      "Harry, gryffindor\n",
      "Ron, gryffindor\n",
      "Draco, slytherin\n"
     ]
    }
   ],
   "source": [
    "# dict = dictonary by  upgrade \n",
    "# refer by {}\n",
    "\n",
    "students = {\n",
    "    \"Hermione\": \"gryffindor\",\n",
    "    \"Harry\": \"gryffindor\",\n",
    "    \"Ron\": \"gryffindor\",\n",
    "    \"Draco\": \"slytherin\"\n",
    "}\n",
    "\n",
    "print(students[\"Harry\"])\n",
    "print(students[\"Hermione\"])\n",
    "print(students[\"Ron\"])\n",
    "\n",
    "#upgrade \n",
    "for student in students:\n",
    "    print(student)\n",
    "\n",
    "# upgrade print\n",
    "for student in students:\n",
    "    print(student, students[student], sep=\", \")\n"
   ]
  },
  {
   "cell_type": "code",
   "execution_count": 19,
   "metadata": {},
   "outputs": [
    {
     "name": "stdout",
     "output_type": "stream",
     "text": [
      "Hermione, Gryffindor, Otter\n",
      "Harry, Gryffindor, Stag\n",
      "Ron, Gryffindor, Jack Russell terrier\n",
      "Draco, Slytherin, None\n"
     ]
    }
   ],
   "source": [
    "# dict, and lists\n",
    "\n",
    "students =[\n",
    "    {\"name\": \"Hermione\", \"house\": \"Gryffindor\", \"patronus\": \"Otter\"},\n",
    "    {\"name\": \"Harry\", \"house\": \"Gryffindor\", \"patronus\": \"Stag\"},\n",
    "    {\"name\": \"Ron\", \"house\": \"Gryffindor\", \"patronus\": \"Jack Russell terrier\"},\n",
    "    {\"name\": \"Draco\", \"house\": \"Slytherin\", \"patronus\": None}\n",
    "]\n",
    "\n",
    "for student in students:\n",
    "    print(student[\"name\"], student[\"house\"], student[\"patronus\"], sep = \", \")"
   ]
  },
  {
   "cell_type": "code",
   "execution_count": null,
   "metadata": {},
   "outputs": [
    {
     "name": "stdout",
     "output_type": "stream",
     "text": [
      "#\n",
      "#\n",
      "#\n",
      "#\n",
      "#\n",
      "#\n"
     ]
    }
   ],
   "source": [
    "# mario.py game\n",
    "print(\"#\")\n",
    "print(\"#\")\n",
    "print(\"#\")\n",
    "\n",
    "#upgrade\n",
    "for _ in range(3):\n",
    "    print(\"#\")"
   ]
  },
  {
   "cell_type": "code",
   "execution_count": 29,
   "metadata": {},
   "outputs": [
    {
     "name": "stdout",
     "output_type": "stream",
     "text": [
      "#\n",
      "#\n",
      "#\n"
     ]
    }
   ],
   "source": [
    "def main():\n",
    "    print_column(3)\n",
    "\n",
    "def print_column(hight):\n",
    "    for _ in range(3):\n",
    "       print(\"#\")\n",
    " # another method print(\"#\\n\" * hight, end=\"\")\n",
    "main()\n"
   ]
  },
  {
   "cell_type": "code",
   "execution_count": 30,
   "metadata": {},
   "outputs": [
    {
     "name": "stdout",
     "output_type": "stream",
     "text": [
      "????\n"
     ]
    }
   ],
   "source": [
    "def main():\n",
    "    print_row(4)\n",
    "\n",
    "def print_row(width):\n",
    "    print(\"?\" * width)\n",
    "\n",
    "main()"
   ]
  }
 ],
 "metadata": {
  "kernelspec": {
   "display_name": "Python 3",
   "language": "python",
   "name": "python3"
  },
  "language_info": {
   "codemirror_mode": {
    "name": "ipython",
    "version": 3
   },
   "file_extension": ".py",
   "mimetype": "text/x-python",
   "name": "python",
   "nbconvert_exporter": "python",
   "pygments_lexer": "ipython3",
   "version": "3.13.0"
  }
 },
 "nbformat": 4,
 "nbformat_minor": 2
}
