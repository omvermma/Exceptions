{
 "cells": [
  {
   "cell_type": "code",
   "execution_count": 2,
   "metadata": {},
   "outputs": [
    {
     "name": "stdout",
     "output_type": "stream",
     "text": [
      "hello, Om Prakash\n"
     ]
    }
   ],
   "source": [
    "# ask user for their name\n",
    "name = input(\"What's your name?\").strip().title()\n",
    "\n",
    "# split user's name into first name and last name\n",
    "first, last = name.split(\" \")\n",
    "\n",
    "# say hello to user\n",
    "print(f\"hello, {name}\")\n"
   ]
  },
  {
   "cell_type": "code",
   "execution_count": 1,
   "metadata": {},
   "outputs": [
    {
     "name": "stdout",
     "output_type": "stream",
     "text": [
      "100\n"
     ]
    }
   ],
   "source": [
    "x = int(input(\"what's x? \"))\n",
    "y = int(input(\"what's y? \"))\n",
    "\n",
    "z = (x + y)\n",
    "\n",
    "print(z)"
   ]
  },
  {
   "cell_type": "code",
   "execution_count": 2,
   "metadata": {},
   "outputs": [
    {
     "name": "stdout",
     "output_type": "stream",
     "text": [
      "x squared is 96059601\n"
     ]
    }
   ],
   "source": [
    "def main():\n",
    "    x = int(input(\"what's x? \"))\n",
    "    print(\"x squared is\", square(x))\n",
    "\n",
    "    \n",
    "def square(n):\n",
    "      return pow(n, 4)\n",
    "\n",
    "\n",
    "main()"
   ]
  },
  {
   "cell_type": "code",
   "execution_count": null,
   "metadata": {},
   "outputs": [
    {
     "name": "stdout",
     "output_type": "stream",
     "text": [
      "4.6\n"
     ]
    }
   ],
   "source": [
    "x = float(input(\"what's x? \"))\n",
    "y = float(input(\"what's y? \"))\n",
    "\n",
    "z = round(x + y)\n",
    "\n",
    "print(f\"{z:,}\")"
   ]
  },
  {
   "cell_type": "code",
   "execution_count": 11,
   "metadata": {},
   "outputs": [
    {
     "name": "stdout",
     "output_type": "stream",
     "text": [
      "0.67\n"
     ]
    }
   ],
   "source": [
    "x = float(input(\"what's x? \"))\n",
    "y = float(input(\"what's y? \"))\n",
    "\n",
    "z = (x / y)\n",
    "\n",
    "print(f\"{z:.2f}\")\n"
   ]
  },
  {
   "cell_type": "code",
   "execution_count": 12,
   "metadata": {},
   "outputs": [
    {
     "name": "stdout",
     "output_type": "stream",
     "text": [
      "hello, om prakash\n"
     ]
    }
   ],
   "source": [
    "\n",
    "def main():\n",
    "     name = input(\"what's your name? \")\n",
    "\n",
    "     hello(name)\n",
    "\n",
    "\n",
    "\n",
    "def hello(to=\"world\"):\n",
    "      print(\"hello,\", to)\n",
    "\n",
    "main()"
   ]
  }
 ],
 "metadata": {
  "kernelspec": {
   "display_name": "Python 3",
   "language": "python",
   "name": "python3"
  },
  "language_info": {
   "codemirror_mode": {
    "name": "ipython",
    "version": 3
   },
   "file_extension": ".py",
   "mimetype": "text/x-python",
   "name": "python",
   "nbconvert_exporter": "python",
   "pygments_lexer": "ipython3",
   "version": "3.13.1"
  }
 },
 "nbformat": 4,
 "nbformat_minor": 2
}
