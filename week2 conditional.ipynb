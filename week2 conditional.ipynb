{
 "cells": [
  {
   "cell_type": "code",
   "execution_count": 5,
   "metadata": {},
   "outputs": [
    {
     "name": "stdout",
     "output_type": "stream",
     "text": [
      "x is equal to y\n"
     ]
    }
   ],
   "source": [
    "# if , elif, else\n",
    "\n",
    "\n",
    "x = int(input(\"what's x? \"))\n",
    "\n",
    "y = int(input(\"what's y? \"))\n",
    "              \n",
    "if x < y:\n",
    "     print(\"x is less then y\")\n",
    "    \n",
    "elif x > y:\n",
    "     print(\" x is greater then y\")\n",
    "\n",
    "else:\n",
    "    print(\"x is equal to y\")\n"
   ]
  },
  {
   "cell_type": "code",
   "execution_count": 23,
   "metadata": {},
   "outputs": [
    {
     "name": "stdout",
     "output_type": "stream",
     "text": [
      "x is not nequal to y\n"
     ]
    }
   ],
   "source": [
    "# 2 senarious\n",
    "\n",
    "x = int(input(\"what's x? \"))\n",
    "\n",
    "y = int(input(\"what's y? \"))\n",
    "              \n",
    "if x < y or x > y:\n",
    "    print(\"x is not nequal to y\")\n",
    "\n",
    "else:\n",
    "    print(\"x is eual to y\")"
   ]
  },
  {
   "cell_type": "code",
   "execution_count": 11,
   "metadata": {},
   "outputs": [
    {
     "name": "stdout",
     "output_type": "stream",
     "text": [
      "Grade: C\n"
     ]
    }
   ],
   "source": [
    "\n",
    "score = int(input(\"score: \"))\n",
    "\n",
    "if  score >= 90:\n",
    "    print(\"grade: A\")\n",
    "\n",
    "elif score >= 80:\n",
    "    print(\"Grade: B\")\n",
    "\n",
    "elif score >= 70:\n",
    "    print(\"Grade: C\")\n",
    "\n",
    "elif score >= 60:\n",
    "    print(\"Grade: D\")\n",
    "\n",
    "else:\n",
    "    print(\"Grade: F\")    \n",
    "    "
   ]
  },
  {
   "cell_type": "code",
   "execution_count": 14,
   "metadata": {},
   "outputs": [
    {
     "name": "stdout",
     "output_type": "stream",
     "text": [
      "odd\n",
      "odd\n"
     ]
    }
   ],
   "source": [
    "#1 % modulo operator \n",
    "x = int(input(\"what's x? \"))\n",
    "\n",
    "if x % 5 ==0:\n",
    "    print(\"even\")\n",
    "else:\n",
    "    print(\"odd\")\n",
    "#2\n",
    "def main():\n",
    "    x = int(input(\"what's x? \"))\n",
    "    if is_even(x):\n",
    "        print(\"even\")\n",
    "    else:\n",
    "        print(\"odd\")\n",
    "\n",
    "def is_even(n):\n",
    "   return True if n % 2 ==0 else False\n",
    "\n",
    "main()"
   ]
  },
  {
   "cell_type": "code",
   "execution_count": null,
   "metadata": {},
   "outputs": [
    {
     "name": "stdout",
     "output_type": "stream",
     "text": [
      "Gryffinder\n",
      "gryffindor\n"
     ]
    }
   ],
   "source": [
    "# house.py\n",
    "\n",
    "name = input(\"what's your name\")\n",
    "\n",
    "if name == \"harry\" or name == \"hermione\" or name == \"ron\":\n",
    "    print(\"Gryffinder\")\n",
    "elif name == \"drako\":                     \n",
    "    print(\"slythrin\")\n",
    "else:\n",
    "    print(\"who\")\n",
    "\n",
    "\n",
    "\n",
    "# improve like that \n",
    "match name:\n",
    "    case \"harry\" | \"hermione\" | \"ron\":\n",
    "        print(\"gryffindor\")\n",
    "    case \"drako\":                     \n",
    "        print(\"slythrin\")\n",
    "    case  _:\n",
    "        print(\"who?\")"
   ]
  },
  {
   "cell_type": "code",
   "execution_count": 1,
   "metadata": {},
   "outputs": [
    {
     "name": "stdout",
     "output_type": "stream",
     "text": [
      "You might like Hearts\n"
     ]
    }
   ],
   "source": [
    "# recommandation.py\n",
    "\n",
    "def main():\n",
    "    difficulty = input(\"Difficult or Casual? \").title()\n",
    "    players = input(\"Multiplayer or Single-player? \").title()  \n",
    "    if difficulty == \"Difficult\":\n",
    "       if players == \"Multiplayer\":\n",
    "            recommend( \"Poker\")\n",
    "       elif players == \"Single-player\":\n",
    "            recommend(\"Klondike\")\n",
    "       else:\n",
    "            print (\"Enter a valid number of players\")\n",
    "    elif difficulty == \"Casual\":\n",
    "       if players == \"Multiplayer\":\n",
    "            recommend(\"Hearts\")\n",
    "       elif players == \"Single-player\":\n",
    "            recommend(\"Clock\")\n",
    "       else:\n",
    "        print(\"Enter a valid number of player\")\n",
    "    else:\n",
    "        print(\"Enter a valid difficulty\")\n",
    "\n",
    "def recommend(game):\n",
    "    print(\"You might like\", game)\n",
    "\n",
    "main()"
   ]
  },
  {
   "cell_type": "code",
   "execution_count": 23,
   "metadata": {},
   "outputs": [
    {
     "name": "stdout",
     "output_type": "stream",
     "text": [
      "You might like Poker\n"
     ]
    }
   ],
   "source": [
    "# recommandation bool\n",
    "\n",
    "def main():\n",
    "    difficulty = input(\"Difficult or Casual? \").title()\n",
    "    if not (difficulty ==\"Difficult\" or difficulty == \"Casual\"):\n",
    "        print(\"Enter a valid difficulty\")\n",
    "        return\n",
    "\n",
    "\n",
    "    players = input(\"Multiplayer or Single-player? \").title()\n",
    "    if not (players == \"Multiplayer\" or players == \"Single-player\"):\n",
    "        print(\"Enter a valid number of players\")\n",
    "        return\n",
    "\n",
    "\n",
    "    if difficulty == \"Difficult\" and players == \"Multiplayer\":\n",
    "         recommend( \"Poker\")\n",
    "    elif difficulty == \"Difficult\" and players == \"Single-player\":\n",
    "         recommend(\"Klondike\")\n",
    "    elif difficulty == \"Casual\" and players == \"Multiplayer\":\n",
    "         recommend(\"Hearts\")\n",
    "    else:\n",
    "         recommend(\"Clock\")\n",
    "    \n",
    "\n",
    "\n",
    "def recommend(game):\n",
    "    print(\"You might like\", game)\n",
    "\n",
    "main()"
   ]
  }
 ],
 "metadata": {
  "kernelspec": {
   "display_name": "Python 3",
   "language": "python",
   "name": "python3"
  },
  "language_info": {
   "codemirror_mode": {
    "name": "ipython",
    "version": 3
   },
   "file_extension": ".py",
   "mimetype": "text/x-python",
   "name": "python",
   "nbconvert_exporter": "python",
   "pygments_lexer": "ipython3",
   "version": "3.13.0"
  }
 },
 "nbformat": 4,
 "nbformat_minor": 2
}
