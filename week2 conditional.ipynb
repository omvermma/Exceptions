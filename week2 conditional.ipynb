{
 "cells": [
  {
   "cell_type": "code",
   "execution_count": 5,
   "metadata": {},
   "outputs": [
    {
     "name": "stdout",
     "output_type": "stream",
     "text": [
      "x is equal to y\n"
     ]
    }
   ],
   "source": [
    "# if , elif, else\n",
    "\n",
    "\n",
    "x = int(input(\"what's x? \"))\n",
    "\n",
    "y = int(input(\"what's y? \"))\n",
    "              \n",
    "if x < y:\n",
    "     print(\"x is less then y\")\n",
    "    \n",
    "elif x > y:\n",
    "     print(\" x is greater then y\")\n",
    "\n",
    "else:\n",
    "    print(\"x is equal to y\")\n"
   ]
  },
  {
   "cell_type": "code",
   "execution_count": 23,
   "metadata": {},
   "outputs": [
    {
     "name": "stdout",
     "output_type": "stream",
     "text": [
      "x is not nequal to y\n"
     ]
    }
   ],
   "source": [
    "# 2 senarious\n",
    "\n",
    "x = int(input(\"what's x? \"))\n",
    "\n",
    "y = int(input(\"what's y? \"))\n",
    "              \n",
    "if x < y or x > y:\n",
    "    print(\"x is not nequal to y\")\n",
    "\n",
    "else:\n",
    "    print(\"x is eual to y\")"
   ]
  },
  {
   "cell_type": "code",
   "execution_count": 11,
   "metadata": {},
   "outputs": [
    {
     "name": "stdout",
     "output_type": "stream",
     "text": [
      "Grade: C\n"
     ]
    }
   ],
   "source": [
    "\n",
    "score = int(input(\"score: \"))\n",
    "\n",
    "if  score >= 90:\n",
    "    print(\"grade: A\")\n",
    "\n",
    "elif score >= 80:\n",
    "    print(\"Grade: B\")\n",
    "\n",
    "elif score >= 70:\n",
    "    print(\"Grade: C\")\n",
    "\n",
    "elif score >= 60:\n",
    "    print(\"Grade: D\")\n",
    "\n",
    "else:\n",
    "    print(\"Grade: F\")    \n",
    "    "
   ]
  },
  {
   "cell_type": "code",
   "execution_count": 14,
   "metadata": {},
   "outputs": [
    {
     "name": "stdout",
     "output_type": "stream",
     "text": [
      "odd\n",
      "odd\n"
     ]
    }
   ],
   "source": [
    "#1 % modulo operator \n",
    "x = int(input(\"what's x? \"))\n",
    "\n",
    "if x % 5 ==0:\n",
    "    print(\"even\")\n",
    "else:\n",
    "    print(\"odd\")\n",
    "#2\n",
    "def main():\n",
    "    x = int(input(\"what's x? \"))\n",
    "    if is_even(x):\n",
    "        print(\"even\")\n",
    "    else:\n",
    "        print(\"odd\")\n",
    "\n",
    "def is_even(n):\n",
    "   return True if n % 2 ==0 else False\n",
    "\n",
    "main()"
   ]
  },
  {
   "cell_type": "code",
   "execution_count": null,
   "metadata": {},
   "outputs": [
    {
     "name": "stdout",
     "output_type": "stream",
     "text": [
      "Gryffinder\n",
      "gryffindor\n"
     ]
    }
   ],
   "source": [
    "# house.py\n",
    "\n",
    "name = input(\"what's your name\")\n",
    "\n",
    "if name == \"harry\" or name == \"hermione\" or name == \"ron\":\n",
    "    print(\"Gryffinder\")\n",
    "elif name == \"drako\":                     \n",
    "    print(\"slythrin\")\n",
    "else:\n",
    "    print(\"who\")\n",
    "\n",
    "\n",
    "\n",
    "# improve like that \n",
    "match name:\n",
    "    case \"harry\" | \"hermione\" | \"ron\":\n",
    "        print(\"gryffindor\")\n",
    "    case \"drako\":                     \n",
    "        print(\"slythrin\")\n",
    "    case  _:\n",
    "        print(\"who?\")"
   ]
  },
  {
   "cell_type": "code",
   "execution_count": 1,
   "metadata": {},
   "outputs": [
    {
     "ename": "KeyboardInterrupt",
     "evalue": "Interrupted by user",
     "output_type": "error",
     "traceback": [
      "\u001b[1;31m---------------------------------------------------------------------------\u001b[0m",
      "\u001b[1;31mKeyboardInterrupt\u001b[0m                         Traceback (most recent call last)",
      "Cell \u001b[1;32mIn[1], line 26\u001b[0m\n\u001b[0;32m     23\u001b[0m \u001b[38;5;28;01mdef\u001b[39;00m \u001b[38;5;21mrecommend\u001b[39m(game):\n\u001b[0;32m     24\u001b[0m     \u001b[38;5;28mprint\u001b[39m(\u001b[38;5;124m\"\u001b[39m\u001b[38;5;124mYou might like\u001b[39m\u001b[38;5;124m\"\u001b[39m, game)\n\u001b[1;32m---> 26\u001b[0m \u001b[43mmain\u001b[49m\u001b[43m(\u001b[49m\u001b[43m)\u001b[49m\n",
      "Cell \u001b[1;32mIn[1], line 4\u001b[0m, in \u001b[0;36mmain\u001b[1;34m()\u001b[0m\n\u001b[0;32m      3\u001b[0m \u001b[38;5;28;01mdef\u001b[39;00m \u001b[38;5;21mmain\u001b[39m():\n\u001b[1;32m----> 4\u001b[0m     difficulty \u001b[38;5;241m=\u001b[39m \u001b[38;5;28;43minput\u001b[39;49m\u001b[43m(\u001b[49m\u001b[38;5;124;43m\"\u001b[39;49m\u001b[38;5;124;43mDifficult or Casual? \u001b[39;49m\u001b[38;5;124;43m\"\u001b[39;49m\u001b[43m)\u001b[49m\u001b[38;5;241m.\u001b[39mtitle()\n\u001b[0;32m      5\u001b[0m     players \u001b[38;5;241m=\u001b[39m \u001b[38;5;28minput\u001b[39m(\u001b[38;5;124m\"\u001b[39m\u001b[38;5;124mMultiplayer or Single-player? \u001b[39m\u001b[38;5;124m\"\u001b[39m)\u001b[38;5;241m.\u001b[39mtitle()  \n\u001b[0;32m      6\u001b[0m     \u001b[38;5;28;01mif\u001b[39;00m difficulty \u001b[38;5;241m==\u001b[39m \u001b[38;5;124m\"\u001b[39m\u001b[38;5;124mDifficult\u001b[39m\u001b[38;5;124m\"\u001b[39m:\n",
      "File \u001b[1;32m~\\AppData\\Roaming\\Python\\Python313\\site-packages\\ipykernel\\kernelbase.py:1282\u001b[0m, in \u001b[0;36mKernel.raw_input\u001b[1;34m(self, prompt)\u001b[0m\n\u001b[0;32m   1280\u001b[0m     msg \u001b[38;5;241m=\u001b[39m \u001b[38;5;124m\"\u001b[39m\u001b[38;5;124mraw_input was called, but this frontend does not support input requests.\u001b[39m\u001b[38;5;124m\"\u001b[39m\n\u001b[0;32m   1281\u001b[0m     \u001b[38;5;28;01mraise\u001b[39;00m StdinNotImplementedError(msg)\n\u001b[1;32m-> 1282\u001b[0m \u001b[38;5;28;01mreturn\u001b[39;00m \u001b[38;5;28;43mself\u001b[39;49m\u001b[38;5;241;43m.\u001b[39;49m\u001b[43m_input_request\u001b[49m\u001b[43m(\u001b[49m\n\u001b[0;32m   1283\u001b[0m \u001b[43m    \u001b[49m\u001b[38;5;28;43mstr\u001b[39;49m\u001b[43m(\u001b[49m\u001b[43mprompt\u001b[49m\u001b[43m)\u001b[49m\u001b[43m,\u001b[49m\n\u001b[0;32m   1284\u001b[0m \u001b[43m    \u001b[49m\u001b[38;5;28;43mself\u001b[39;49m\u001b[38;5;241;43m.\u001b[39;49m\u001b[43m_parent_ident\u001b[49m\u001b[43m[\u001b[49m\u001b[38;5;124;43m\"\u001b[39;49m\u001b[38;5;124;43mshell\u001b[39;49m\u001b[38;5;124;43m\"\u001b[39;49m\u001b[43m]\u001b[49m\u001b[43m,\u001b[49m\n\u001b[0;32m   1285\u001b[0m \u001b[43m    \u001b[49m\u001b[38;5;28;43mself\u001b[39;49m\u001b[38;5;241;43m.\u001b[39;49m\u001b[43mget_parent\u001b[49m\u001b[43m(\u001b[49m\u001b[38;5;124;43m\"\u001b[39;49m\u001b[38;5;124;43mshell\u001b[39;49m\u001b[38;5;124;43m\"\u001b[39;49m\u001b[43m)\u001b[49m\u001b[43m,\u001b[49m\n\u001b[0;32m   1286\u001b[0m \u001b[43m    \u001b[49m\u001b[43mpassword\u001b[49m\u001b[38;5;241;43m=\u001b[39;49m\u001b[38;5;28;43;01mFalse\u001b[39;49;00m\u001b[43m,\u001b[49m\n\u001b[0;32m   1287\u001b[0m \u001b[43m\u001b[49m\u001b[43m)\u001b[49m\n",
      "File \u001b[1;32m~\\AppData\\Roaming\\Python\\Python313\\site-packages\\ipykernel\\kernelbase.py:1325\u001b[0m, in \u001b[0;36mKernel._input_request\u001b[1;34m(self, prompt, ident, parent, password)\u001b[0m\n\u001b[0;32m   1322\u001b[0m \u001b[38;5;28;01mexcept\u001b[39;00m \u001b[38;5;167;01mKeyboardInterrupt\u001b[39;00m:\n\u001b[0;32m   1323\u001b[0m     \u001b[38;5;66;03m# re-raise KeyboardInterrupt, to truncate traceback\u001b[39;00m\n\u001b[0;32m   1324\u001b[0m     msg \u001b[38;5;241m=\u001b[39m \u001b[38;5;124m\"\u001b[39m\u001b[38;5;124mInterrupted by user\u001b[39m\u001b[38;5;124m\"\u001b[39m\n\u001b[1;32m-> 1325\u001b[0m     \u001b[38;5;28;01mraise\u001b[39;00m \u001b[38;5;167;01mKeyboardInterrupt\u001b[39;00m(msg) \u001b[38;5;28;01mfrom\u001b[39;00m \u001b[38;5;28;01mNone\u001b[39;00m\n\u001b[0;32m   1326\u001b[0m \u001b[38;5;28;01mexcept\u001b[39;00m \u001b[38;5;167;01mException\u001b[39;00m:\n\u001b[0;32m   1327\u001b[0m     \u001b[38;5;28mself\u001b[39m\u001b[38;5;241m.\u001b[39mlog\u001b[38;5;241m.\u001b[39mwarning(\u001b[38;5;124m\"\u001b[39m\u001b[38;5;124mInvalid Message:\u001b[39m\u001b[38;5;124m\"\u001b[39m, exc_info\u001b[38;5;241m=\u001b[39m\u001b[38;5;28;01mTrue\u001b[39;00m)\n",
      "\u001b[1;31mKeyboardInterrupt\u001b[0m: Interrupted by user"
     ]
    }
   ],
   "source": [
    "# recommandation.py\n",
    "\n",
    "def main():\n",
    "    difficulty = input(\"Difficult or Casual? \").title()\n",
    "    players = input(\"Multiplayer or Single-player? \").title()  \n",
    "    if difficulty == \"Difficult\":\n",
    "       if players == \"Multiplayer\":\n",
    "            recommend( \"Poker\")\n",
    "       elif players == \"Single-player\":\n",
    "            recommend(\"Klondike\")\n",
    "       else:\n",
    "            print (\"Enter a valid number of players\")\n",
    "    elif difficulty == \"Casual\":\n",
    "       if players == \"Multiplayer\":\n",
    "            recommend(\"Hearts\")\n",
    "       elif players == \"Single-player\":\n",
    "            recommend(\"Clock\")\n",
    "       else:\n",
    "        print(\"Enter a valid number of player\")\n",
    "    else:\n",
    "        print(\"Enter a valid difficulty\")\n",
    "\n",
    "def recommend(game):\n",
    "    print(\"You might like\", game)\n",
    "\n",
    "main()"
   ]
  },
  {
   "cell_type": "code",
   "execution_count": 23,
   "metadata": {},
   "outputs": [
    {
     "name": "stdout",
     "output_type": "stream",
     "text": [
      "You might like Poker\n"
     ]
    }
   ],
   "source": [
    "# recommandation bool\n",
    "\n",
    "def main():\n",
    "    difficulty = input(\"Difficult or Casual? \").title()\n",
    "    if not (difficulty ==\"Difficult\" or difficulty == \"Casual\"):\n",
    "        print(\"Enter a valid difficulty\")\n",
    "        return\n",
    "\n",
    "\n",
    "    players = input(\"Multiplayer or Single-player? \").title()\n",
    "    if not (players == \"Multiplayer\" or players == \"Single-player\"):\n",
    "        print(\"Enter a valid number of players\")\n",
    "        return\n",
    "\n",
    "\n",
    "    if difficulty == \"Difficult\" and players == \"Multiplayer\":\n",
    "         recommend( \"Poker\")\n",
    "    elif difficulty == \"Difficult\" and players == \"Single-player\":\n",
    "         recommend(\"Klondike\")\n",
    "    elif difficulty == \"Casual\" and players == \"Multiplayer\":\n",
    "         recommend(\"Hearts\")\n",
    "    else:\n",
    "         recommend(\"Clock\")\n",
    "    \n",
    "\n",
    "\n",
    "def recommend(game):\n",
    "    print(\"You might like\", game)\n",
    "\n",
    "main()"
   ]
  }
 ],
 "metadata": {
  "kernelspec": {
   "display_name": "Python 3",
   "language": "python",
   "name": "python3"
  },
  "language_info": {
   "codemirror_mode": {
    "name": "ipython",
    "version": 3
   },
   "file_extension": ".py",
   "mimetype": "text/x-python",
   "name": "python",
   "nbconvert_exporter": "python",
   "pygments_lexer": "ipython3",
   "version": "3.13.0"
  }
 },
 "nbformat": 4,
 "nbformat_minor": 2
}
