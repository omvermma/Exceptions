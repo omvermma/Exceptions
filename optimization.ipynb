{
  "cells": [
    {
      "cell_type": "markdown",
      "metadata": {
        "id": "view-in-github",
        "colab_type": "text"
      },
      "source": [
        "<a href=\"https://colab.research.google.com/github/omvermma/Exceptions/blob/main/optimization.ipynb\" target=\"_parent\"><img src=\"https://colab.research.google.com/assets/colab-badge.svg\" alt=\"Open In Colab\"/></a>"
      ]
    },
    {
      "cell_type": "code",
      "execution_count": 1,
      "metadata": {
        "id": "VjYy0F2gZIPR",
        "outputId": "ae093d2c-756b-4b38-e9aa-21d8dc9270de",
        "colab": {
          "base_uri": "https://localhost:8080/"
        }
      },
      "outputs": [
        {
          "output_type": "stream",
          "name": "stdout",
          "text": [
            "Optimal Route: Panama → New York → Helsinki → Amsterdam → Casablanca\n",
            "Minimum Distance: 13700 nautical miles\n"
          ]
        }
      ],
      "source": [
        "from itertools import permutations\n",
        "\n",
        "# Distances between ports in nautical miles (example distances)\n",
        "distances = {\n",
        "    ('Panama', 'New York'): 2200,\n",
        "    ('Panama', 'Casablanca'): 4700,\n",
        "    ('Panama', 'Amsterdam'): 5500,\n",
        "    ('Panama', 'Helsinki'): 5900,\n",
        "    ('New York', 'Casablanca'): 3600,\n",
        "    ('New York', 'Amsterdam'): 3600,\n",
        "    ('New York', 'Helsinki'): 4200,\n",
        "    ('Casablanca', 'Amsterdam'): 1800,\n",
        "    ('Casablanca', 'Helsinki'): 2500,\n",
        "    ('Amsterdam', 'Helsinki'): 800,\n",
        "}\n",
        "\n",
        "# Ensure distances are symmetric (both directions have the same distance)\n",
        "for (a, b), d in list(distances.items()):\n",
        "    distances[(b, a)] = d\n",
        "\n",
        "# Function to calculate the total distance for a route including the return trip\n",
        "def total_route_distance(route):\n",
        "    total = 0\n",
        "    for i in range(len(route) - 1):\n",
        "        total += distances[(route[i], route[i + 1])]\n",
        "    # Add distance for the return trip to Panama\n",
        "    total += distances[(route[-1], route[0])]\n",
        "    return total\n",
        "\n",
        "# Ports to visit\n",
        "ports = ['New York', 'Casablanca', 'Amsterdam', 'Helsinki']\n",
        "start = 'Panama'\n",
        "\n",
        "# Initialize variables to track the shortest route\n",
        "shortest_route = None\n",
        "min_distance = float('inf')\n",
        "\n",
        "# Generate all permutations of the ports and calculate the total distance\n",
        "for perm in permutations(ports):\n",
        "    route = [start] + list(perm)  # Start the route from Panama\n",
        "    distance = total_route_distance(route)  # Calculate total round-trip distance\n",
        "    if distance < min_distance:\n",
        "        min_distance = distance\n",
        "        shortest_route = route\n",
        "\n",
        "# Print the optimal route and minimum distance\n",
        "print(\"Optimal Route:\", \" → \".join(shortest_route))\n",
        "print(\"Minimum Distance:\", min_distance, \"nautical miles\")\n"
      ]
    },
    {
      "cell_type": "markdown",
      "source": [
        "# New Section"
      ],
      "metadata": {
        "id": "XlatJBBb2P_Q"
      }
    }
  ],
  "metadata": {
    "accelerator": "GPU",
    "colab": {
      "gpuType": "T4",
      "provenance": [],
      "include_colab_link": true
    },
    "kernelspec": {
      "display_name": "Python 3",
      "name": "python3"
    },
    "language_info": {
      "name": "python"
    }
  },
  "nbformat": 4,
  "nbformat_minor": 0
}